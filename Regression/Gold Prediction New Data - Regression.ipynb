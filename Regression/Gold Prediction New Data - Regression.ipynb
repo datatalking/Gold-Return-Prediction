{
 "cells": [
  {
   "cell_type": "code",
   "execution_count": null,
   "metadata": {
    "is_executing": true
   },
   "outputs": [],
   "source": [
    "#Importing Libraries\n",
    "\n",
    "!pip3 install pandas\n",
    "!pip3 install datetime\n",
    "!pip3 install yahoofinancials\n",
    "!pip3 install yfinance\n",
    "!pip3 install matplotlib\n",
    "!pip3 install openpyxl\n",
    "\n",
    "\n",
    "import pandas as pd\n",
    "from datetime import datetime\n",
    "import matplotlib.pyplot as plt\n",
    "from yahoofinancials import YahooFinancials"
   ]
  },
  {
   "cell_type": "code",
   "execution_count": 2,
   "metadata": {},
   "outputs": [],
   "source": [
    "# ticker_details = pd.read_excel('/Users/vanessawilson/Pbox/Gold-Return-Prediction/Ticker List.xlsx')\n",
    "\n",
    "ticker_details = pd.read_csv('Ticker List.csv')\n",
    "\n",
    "# ticker_details = pd.read_excel('Ticker List.xlsx')\n",
    "\n",
    "ticker = ticker_details['Ticker'].to_list()\n",
    "names = ticker_details['Description'].to_list()"
   ]
  },
  {
   "cell_type": "code",
   "execution_count": 3,
   "metadata": {},
   "outputs": [
    {
     "ename": "TypeError",
     "evalue": "string indices must be integers",
     "output_type": "error",
     "traceback": [
      "\u001B[0;31m---------------------------------------------------------------------------\u001B[0m",
      "\u001B[0;31mKeyError\u001B[0m                                  Traceback (most recent call last)",
      "\u001B[0;32m/usr/local/lib/python3.9/site-packages/yahoofinancials/__init__.py\u001B[0m in \u001B[0;36m_create_dict_ent\u001B[0;34m(self, up_ticker, statement_type, tech_type, report_name, hist_obj)\u001B[0m\n\u001B[1;32m    415\u001B[0m             \u001B[0;32mtry\u001B[0m\u001B[0;34m:\u001B[0m\u001B[0;34m\u001B[0m\u001B[0;34m\u001B[0m\u001B[0m\n\u001B[0;32m--> 416\u001B[0;31m                 \u001B[0mcleaned_re_data\u001B[0m \u001B[0;34m=\u001B[0m \u001B[0mself\u001B[0m\u001B[0;34m.\u001B[0m\u001B[0m_recursive_api_request\u001B[0m\u001B[0;34m(\u001B[0m\u001B[0mhist_obj\u001B[0m\u001B[0;34m,\u001B[0m \u001B[0mup_ticker\u001B[0m\u001B[0;34m)\u001B[0m\u001B[0;34m\u001B[0m\u001B[0;34m\u001B[0m\u001B[0m\n\u001B[0m\u001B[1;32m    417\u001B[0m             \u001B[0;32mexcept\u001B[0m \u001B[0mKeyError\u001B[0m\u001B[0;34m:\u001B[0m\u001B[0;34m\u001B[0m\u001B[0;34m\u001B[0m\u001B[0m\n",
      "\u001B[0;32m/usr/local/lib/python3.9/site-packages/yahoofinancials/__init__.py\u001B[0m in \u001B[0;36m_recursive_api_request\u001B[0;34m(self, hist_obj, up_ticker, i)\u001B[0m\n\u001B[1;32m    384\u001B[0m         \u001B[0mapi_url\u001B[0m \u001B[0;34m=\u001B[0m \u001B[0mself\u001B[0m\u001B[0;34m.\u001B[0m\u001B[0m_build_api_url\u001B[0m\u001B[0;34m(\u001B[0m\u001B[0mhist_obj\u001B[0m\u001B[0;34m,\u001B[0m \u001B[0mup_ticker\u001B[0m\u001B[0;34m)\u001B[0m\u001B[0;34m\u001B[0m\u001B[0;34m\u001B[0m\u001B[0m\n\u001B[0;32m--> 385\u001B[0;31m         \u001B[0mre_data\u001B[0m \u001B[0;34m=\u001B[0m \u001B[0mself\u001B[0m\u001B[0;34m.\u001B[0m\u001B[0m_clean_api_data\u001B[0m\u001B[0;34m(\u001B[0m\u001B[0mapi_url\u001B[0m\u001B[0;34m)\u001B[0m\u001B[0;34m\u001B[0m\u001B[0;34m\u001B[0m\u001B[0m\n\u001B[0m\u001B[1;32m    386\u001B[0m         \u001B[0mcleaned_re_data\u001B[0m \u001B[0;34m=\u001B[0m \u001B[0mself\u001B[0m\u001B[0;34m.\u001B[0m\u001B[0m_clean_historical_data\u001B[0m\u001B[0;34m(\u001B[0m\u001B[0mre_data\u001B[0m\u001B[0;34m)\u001B[0m\u001B[0;34m\u001B[0m\u001B[0;34m\u001B[0m\u001B[0m\n",
      "\u001B[0;32m/usr/local/lib/python3.9/site-packages/yahoofinancials/__init__.py\u001B[0m in \u001B[0;36m_clean_api_data\u001B[0;34m(self, api_url)\u001B[0m\n\u001B[1;32m    358\u001B[0m             \u001B[0mret_obj\u001B[0m\u001B[0;34m.\u001B[0m\u001B[0mupdate\u001B[0m\u001B[0;34m(\u001B[0m\u001B[0;34m{\u001B[0m\u001B[0;34m'timeZone'\u001B[0m\u001B[0;34m:\u001B[0m \u001B[0mtz_sub_dict\u001B[0m\u001B[0;34m}\u001B[0m\u001B[0;34m)\u001B[0m\u001B[0;34m\u001B[0m\u001B[0;34m\u001B[0m\u001B[0m\n\u001B[0;32m--> 359\u001B[0;31m             \u001B[0mtimestamp_list\u001B[0m \u001B[0;34m=\u001B[0m \u001B[0mresult\u001B[0m\u001B[0;34m[\u001B[0m\u001B[0;34m'timestamp'\u001B[0m\u001B[0;34m]\u001B[0m\u001B[0;34m\u001B[0m\u001B[0;34m\u001B[0m\u001B[0m\n\u001B[0m\u001B[1;32m    360\u001B[0m             \u001B[0mhigh_price_list\u001B[0m \u001B[0;34m=\u001B[0m \u001B[0mresult\u001B[0m\u001B[0;34m[\u001B[0m\u001B[0;34m'indicators'\u001B[0m\u001B[0;34m]\u001B[0m\u001B[0;34m[\u001B[0m\u001B[0;34m'quote'\u001B[0m\u001B[0;34m]\u001B[0m\u001B[0;34m[\u001B[0m\u001B[0;36m0\u001B[0m\u001B[0;34m]\u001B[0m\u001B[0;34m[\u001B[0m\u001B[0;34m'high'\u001B[0m\u001B[0;34m]\u001B[0m\u001B[0;34m\u001B[0m\u001B[0;34m\u001B[0m\u001B[0m\n",
      "\u001B[0;31mKeyError\u001B[0m: 'timestamp'",
      "\nDuring handling of the above exception, another exception occurred:\n",
      "\u001B[0;31mTypeError\u001B[0m                                 Traceback (most recent call last)",
      "\u001B[0;32m<ipython-input-3-5f90a065dd4c>\u001B[0m in \u001B[0;36m<module>\u001B[0;34m\u001B[0m\n\u001B[1;32m      9\u001B[0m \u001B[0;32mfor\u001B[0m \u001B[0mi\u001B[0m \u001B[0;32min\u001B[0m \u001B[0mticker\u001B[0m\u001B[0;34m:\u001B[0m\u001B[0;34m\u001B[0m\u001B[0;34m\u001B[0m\u001B[0m\n\u001B[1;32m     10\u001B[0m     \u001B[0mraw_data\u001B[0m \u001B[0;34m=\u001B[0m \u001B[0mYahooFinancials\u001B[0m\u001B[0;34m(\u001B[0m\u001B[0mi\u001B[0m\u001B[0;34m)\u001B[0m\u001B[0;34m\u001B[0m\u001B[0;34m\u001B[0m\u001B[0m\n\u001B[0;32m---> 11\u001B[0;31m     \u001B[0mraw_data\u001B[0m \u001B[0;34m=\u001B[0m \u001B[0mraw_data\u001B[0m\u001B[0;34m.\u001B[0m\u001B[0mget_historical_price_data\u001B[0m\u001B[0;34m(\u001B[0m\u001B[0mstart_date\u001B[0m\u001B[0;34m,\u001B[0m \u001B[0mend_date\u001B[0m\u001B[0;34m,\u001B[0m \u001B[0;34m\"daily\"\u001B[0m\u001B[0;34m)\u001B[0m\u001B[0;34m\u001B[0m\u001B[0;34m\u001B[0m\u001B[0m\n\u001B[0m\u001B[1;32m     12\u001B[0m     \u001B[0mdf\u001B[0m \u001B[0;34m=\u001B[0m \u001B[0mpd\u001B[0m\u001B[0;34m.\u001B[0m\u001B[0mDataFrame\u001B[0m\u001B[0;34m(\u001B[0m\u001B[0mraw_data\u001B[0m\u001B[0;34m[\u001B[0m\u001B[0mi\u001B[0m\u001B[0;34m]\u001B[0m\u001B[0;34m[\u001B[0m\u001B[0;34m'prices'\u001B[0m\u001B[0;34m]\u001B[0m\u001B[0;34m)\u001B[0m\u001B[0;34m[\u001B[0m\u001B[0;34m[\u001B[0m\u001B[0;34m'formatted_date'\u001B[0m\u001B[0;34m,\u001B[0m\u001B[0;34m'adjclose'\u001B[0m\u001B[0;34m]\u001B[0m\u001B[0;34m]\u001B[0m\u001B[0;34m\u001B[0m\u001B[0;34m\u001B[0m\u001B[0m\n\u001B[1;32m     13\u001B[0m     \u001B[0mdf\u001B[0m\u001B[0;34m.\u001B[0m\u001B[0mcolumns\u001B[0m \u001B[0;34m=\u001B[0m \u001B[0;34m[\u001B[0m\u001B[0;34m'Date1'\u001B[0m\u001B[0;34m,\u001B[0m\u001B[0mi\u001B[0m\u001B[0;34m]\u001B[0m\u001B[0;34m\u001B[0m\u001B[0;34m\u001B[0m\u001B[0m\n",
      "\u001B[0;32m/usr/local/lib/python3.9/site-packages/yahoofinancials/__init__.py\u001B[0m in \u001B[0;36mget_historical_price_data\u001B[0;34m(self, start_date, end_date, time_interval)\u001B[0m\n\u001B[1;32m    645\u001B[0m         \u001B[0mend\u001B[0m \u001B[0;34m=\u001B[0m \u001B[0mself\u001B[0m\u001B[0;34m.\u001B[0m\u001B[0mformat_date\u001B[0m\u001B[0;34m(\u001B[0m\u001B[0mend_date\u001B[0m\u001B[0;34m)\u001B[0m\u001B[0;34m\u001B[0m\u001B[0;34m\u001B[0m\u001B[0m\n\u001B[1;32m    646\u001B[0m         \u001B[0mhist_obj\u001B[0m \u001B[0;34m=\u001B[0m \u001B[0;34m{\u001B[0m\u001B[0;34m'start'\u001B[0m\u001B[0;34m:\u001B[0m \u001B[0mstart\u001B[0m\u001B[0;34m,\u001B[0m \u001B[0;34m'end'\u001B[0m\u001B[0;34m:\u001B[0m \u001B[0mend\u001B[0m\u001B[0;34m,\u001B[0m \u001B[0;34m'interval'\u001B[0m\u001B[0;34m:\u001B[0m \u001B[0minterval_code\u001B[0m\u001B[0;34m}\u001B[0m\u001B[0;34m\u001B[0m\u001B[0;34m\u001B[0m\u001B[0m\n\u001B[0;32m--> 647\u001B[0;31m         \u001B[0;32mreturn\u001B[0m \u001B[0mself\u001B[0m\u001B[0;34m.\u001B[0m\u001B[0mget_stock_data\u001B[0m\u001B[0;34m(\u001B[0m\u001B[0;34m'history'\u001B[0m\u001B[0;34m,\u001B[0m \u001B[0mhist_obj\u001B[0m\u001B[0;34m=\u001B[0m\u001B[0mhist_obj\u001B[0m\u001B[0;34m)\u001B[0m\u001B[0;34m\u001B[0m\u001B[0;34m\u001B[0m\u001B[0m\n\u001B[0m\u001B[1;32m    648\u001B[0m \u001B[0;34m\u001B[0m\u001B[0m\n\u001B[1;32m    649\u001B[0m     \u001B[0;31m# Private Method for Functions needing stock_price_data\u001B[0m\u001B[0;34m\u001B[0m\u001B[0;34m\u001B[0m\u001B[0m\n",
      "\u001B[0;32m/usr/local/lib/python3.9/site-packages/yahoofinancials/__init__.py\u001B[0m in \u001B[0;36mget_stock_data\u001B[0;34m(self, statement_type, tech_type, report_name, hist_obj)\u001B[0m\n\u001B[1;32m    474\u001B[0m         \u001B[0mdata\u001B[0m \u001B[0;34m=\u001B[0m \u001B[0;34m{\u001B[0m\u001B[0;34m}\u001B[0m\u001B[0;34m\u001B[0m\u001B[0;34m\u001B[0m\u001B[0m\n\u001B[1;32m    475\u001B[0m         \u001B[0;32mif\u001B[0m \u001B[0misinstance\u001B[0m\u001B[0;34m(\u001B[0m\u001B[0mself\u001B[0m\u001B[0;34m.\u001B[0m\u001B[0mticker\u001B[0m\u001B[0;34m,\u001B[0m \u001B[0mstr\u001B[0m\u001B[0;34m)\u001B[0m\u001B[0;34m:\u001B[0m\u001B[0;34m\u001B[0m\u001B[0;34m\u001B[0m\u001B[0m\n\u001B[0;32m--> 476\u001B[0;31m             \u001B[0mdict_ent\u001B[0m \u001B[0;34m=\u001B[0m \u001B[0mself\u001B[0m\u001B[0;34m.\u001B[0m\u001B[0m_create_dict_ent\u001B[0m\u001B[0;34m(\u001B[0m\u001B[0mself\u001B[0m\u001B[0;34m.\u001B[0m\u001B[0mticker\u001B[0m\u001B[0;34m,\u001B[0m \u001B[0mstatement_type\u001B[0m\u001B[0;34m,\u001B[0m \u001B[0mtech_type\u001B[0m\u001B[0;34m,\u001B[0m \u001B[0mreport_name\u001B[0m\u001B[0;34m,\u001B[0m \u001B[0mhist_obj\u001B[0m\u001B[0;34m)\u001B[0m\u001B[0;34m\u001B[0m\u001B[0;34m\u001B[0m\u001B[0m\n\u001B[0m\u001B[1;32m    477\u001B[0m             \u001B[0mdata\u001B[0m\u001B[0;34m.\u001B[0m\u001B[0mupdate\u001B[0m\u001B[0;34m(\u001B[0m\u001B[0mdict_ent\u001B[0m\u001B[0;34m)\u001B[0m\u001B[0;34m\u001B[0m\u001B[0;34m\u001B[0m\u001B[0m\n\u001B[1;32m    478\u001B[0m         \u001B[0;32melse\u001B[0m\u001B[0;34m:\u001B[0m\u001B[0;34m\u001B[0m\u001B[0;34m\u001B[0m\u001B[0m\n",
      "\u001B[0;32m/usr/local/lib/python3.9/site-packages/yahoofinancials/__init__.py\u001B[0m in \u001B[0;36m_create_dict_ent\u001B[0;34m(self, up_ticker, statement_type, tech_type, report_name, hist_obj)\u001B[0m\n\u001B[1;32m    417\u001B[0m             \u001B[0;32mexcept\u001B[0m \u001B[0mKeyError\u001B[0m\u001B[0;34m:\u001B[0m\u001B[0;34m\u001B[0m\u001B[0;34m\u001B[0m\u001B[0m\n\u001B[1;32m    418\u001B[0m                 \u001B[0;32mtry\u001B[0m\u001B[0;34m:\u001B[0m\u001B[0;34m\u001B[0m\u001B[0;34m\u001B[0m\u001B[0m\n\u001B[0;32m--> 419\u001B[0;31m                     \u001B[0mre_data\u001B[0m \u001B[0;34m=\u001B[0m \u001B[0mself\u001B[0m\u001B[0;34m.\u001B[0m\u001B[0m_scrape_data\u001B[0m\u001B[0;34m(\u001B[0m\u001B[0mYAHOO_URL\u001B[0m\u001B[0;34m,\u001B[0m \u001B[0mtech_type\u001B[0m\u001B[0;34m,\u001B[0m \u001B[0mstatement_type\u001B[0m\u001B[0;34m)\u001B[0m\u001B[0;34m\u001B[0m\u001B[0;34m\u001B[0m\u001B[0m\n\u001B[0m\u001B[1;32m    420\u001B[0m                     \u001B[0mcleaned_re_data\u001B[0m \u001B[0;34m=\u001B[0m \u001B[0mself\u001B[0m\u001B[0;34m.\u001B[0m\u001B[0m_clean_historical_data\u001B[0m\u001B[0;34m(\u001B[0m\u001B[0mre_data\u001B[0m\u001B[0;34m)\u001B[0m\u001B[0;34m\u001B[0m\u001B[0;34m\u001B[0m\u001B[0m\n\u001B[1;32m    421\u001B[0m                 \u001B[0;32mexcept\u001B[0m \u001B[0mKeyError\u001B[0m\u001B[0;34m:\u001B[0m\u001B[0;34m\u001B[0m\u001B[0;34m\u001B[0m\u001B[0m\n",
      "\u001B[0;32m/usr/local/lib/python3.9/site-packages/yahoofinancials/__init__.py\u001B[0m in \u001B[0;36m_scrape_data\u001B[0;34m(self, url, tech_type, statement_type)\u001B[0m\n\u001B[1;32m    169\u001B[0m             \u001B[0mstores\u001B[0m \u001B[0;34m=\u001B[0m \u001B[0mdata\u001B[0m\u001B[0;34m[\u001B[0m\u001B[0;34m\"context\"\u001B[0m\u001B[0;34m]\u001B[0m\u001B[0;34m[\u001B[0m\u001B[0;34m\"dispatcher\"\u001B[0m\u001B[0;34m]\u001B[0m\u001B[0;34m[\u001B[0m\u001B[0;34m\"stores\"\u001B[0m\u001B[0;34m]\u001B[0m\u001B[0;34m[\u001B[0m\u001B[0;34m\"QuoteSummaryStore\"\u001B[0m\u001B[0;34m]\u001B[0m\u001B[0;34m[\u001B[0m\u001B[0mtech_type\u001B[0m\u001B[0;34m]\u001B[0m\u001B[0;34m\u001B[0m\u001B[0;34m\u001B[0m\u001B[0m\n\u001B[1;32m    170\u001B[0m         \u001B[0;32melse\u001B[0m\u001B[0;34m:\u001B[0m\u001B[0;34m\u001B[0m\u001B[0;34m\u001B[0m\u001B[0m\n\u001B[0;32m--> 171\u001B[0;31m             \u001B[0mstores\u001B[0m \u001B[0;34m=\u001B[0m \u001B[0mdata\u001B[0m\u001B[0;34m[\u001B[0m\u001B[0;34m\"context\"\u001B[0m\u001B[0;34m]\u001B[0m\u001B[0;34m[\u001B[0m\u001B[0;34m\"dispatcher\"\u001B[0m\u001B[0;34m]\u001B[0m\u001B[0;34m[\u001B[0m\u001B[0;34m\"stores\"\u001B[0m\u001B[0;34m]\u001B[0m\u001B[0;34m[\u001B[0m\u001B[0;34m\"HistoricalPriceStore\"\u001B[0m\u001B[0;34m]\u001B[0m\u001B[0;34m\u001B[0m\u001B[0;34m\u001B[0m\u001B[0m\n\u001B[0m\u001B[1;32m    172\u001B[0m         \u001B[0;32mreturn\u001B[0m \u001B[0mstores\u001B[0m\u001B[0;34m\u001B[0m\u001B[0;34m\u001B[0m\u001B[0m\n\u001B[1;32m    173\u001B[0m \u001B[0;34m\u001B[0m\u001B[0m\n",
      "\u001B[0;31mTypeError\u001B[0m: string indices must be integers"
     ]
    }
   ],
   "source": [
    "#Preparing Date Range\n",
    "end_date= datetime.strftime(datetime.today(),'%Y-%m-%d')\n",
    "start_date = \"2019-01-01\"\n",
    "date_range = pd.bdate_range(start=start_date,end=end_date)\n",
    "values = pd.DataFrame({ 'Date': date_range})\n",
    "values['Date']= pd.to_datetime(values['Date'])\n",
    "\n",
    "#Extracting Data from Yahoo Finance and Adding them to Values table using date as key\n",
    "for i in ticker:\n",
    "    raw_data = YahooFinancials(i)\n",
    "    raw_data = raw_data.get_historical_price_data(start_date, end_date, \"daily\")\n",
    "    df = pd.DataFrame(raw_data[i]['prices'])[['formatted_date','adjclose']]\n",
    "    df.columns = ['Date1',i]\n",
    "    df['Date1']= pd.to_datetime(df['Date1'])\n",
    "    # TO FIX https://github.com/Riazone/Gold-Return-Prediction/issues/1\n",
    "    values = values.merge(df,how='left',left_on='Date',right_on='Date1')\n",
    "    values = values.drop(labels='Date1',axis=1)\n",
    "\n",
    "#Renaming columns to represent instrument names rather than their ticker codes for ease of readability\n",
    "names.insert(0,'Date')\n",
    "values.columns = names\n",
    "\n",
    "#Front filling the NaN values in the data set\n",
    "values = values.fillna(method=\"ffill\",axis=0)\n",
    "values = values.fillna(method=\"bfill\",axis=0)\n",
    "\n",
    "# Co-ercing numeric type to all columns except Date\n",
    "cols=values.columns.drop('Date')\n",
    "values[cols] = values[cols].apply(pd.to_numeric,errors='coerce').round(decimals=1)\n",
    "imp = ['Gold','Silver', 'Crude Oil', 'S&P500','MSCI EM ETF']\n",
    "\n",
    "# Calculating Short term -Historical Returns\n",
    "change_days = [1,3,5,14,21]\n",
    "\n",
    "data = pd.DataFrame(data=values['Date'])\n",
    "for i in change_days:\n",
    "    x= values[cols].pct_change(periods=i).add_suffix(\"-T-\"+str(i))\n",
    "    data=pd.concat(objs=(data,x),axis=1)\n",
    "    x=[]\n",
    "\n",
    "# Calculating Long term Historical Returns\n",
    "change_days = [60,90,180,250]\n",
    "\n",
    "for i in change_days:\n",
    "    x= values[imp].pct_change(periods=i).add_suffix(\"-T-\"+str(i))\n",
    "    data=pd.concat(objs=(data,x),axis=1)\n",
    "    x=[]\n",
    "\n",
    "#Calculating Moving averages for Gold\n",
    "moving_avg = pd.DataFrame(values['Date'],columns=['Date'])\n",
    "moving_avg['Date']=pd.to_datetime(moving_avg['Date'],format='%Y-%b-%d')\n",
    "moving_avg['Gold/15SMA'] = (values['Gold']/(values['Gold'].rolling(window=15).mean()))-1\n",
    "moving_avg['Gold/30SMA'] = (values['Gold']/(values['Gold'].rolling(window=30).mean()))-1\n",
    "moving_avg['Gold/60SMA'] = (values['Gold']/(values['Gold'].rolling(window=60).mean()))-1\n",
    "moving_avg['Gold/90SMA'] = (values['Gold']/(values['Gold'].rolling(window=90).mean()))-1\n",
    "moving_avg['Gold/180SMA'] = (values['Gold']/(values['Gold'].rolling(window=180).mean()))-1\n",
    "moving_avg['Gold/90EMA'] = (values['Gold']/(values['Gold'].ewm(span=90,adjust=True,ignore_na=True).mean()))-1\n",
    "moving_avg['Gold/180EMA'] = (values['Gold']/(values['Gold'].ewm(span=180,adjust=True,ignore_na=True).mean()))-1\n",
    "moving_avg = moving_avg.dropna(axis=0)\n",
    "#Merging Moving Average values to the feature space\n",
    "\n",
    "data['Date']=pd.to_datetime(data['Date'],format='%Y-%b-%d')\n",
    "data = pd.merge(left=data,right=moving_avg,how='left',on='Date')\n",
    "data = data[data['Gold-T-250'].notna()]\n",
    "prediction_data = data.copy()"
   ]
  },
  {
   "cell_type": "code",
   "execution_count": null,
   "metadata": {
    "pycharm": {
     "name": "#%%\n"
    }
   },
   "outputs": [],
   "source": [
    "from pycaret.regression import *\n",
    "#Loading the stored model\n",
    "regressor_22 = load_model(\"22Day Regressor\");\n",
    "#Making Predictions\n",
    "predicted_return_22 = predict_model(regressor_22,data=prediction_data)\n",
    "predicted_return_22=predicted_return_22[['Date','Label']]\n",
    "predicted_return_22.columns = ['Date','Return_22']\n",
    "\n",
    "\n",
    "#Adding return Predictions to Gold Values\n",
    "predicted_values = values[['Date','Gold']]\n",
    "predicted_values = predicted_values.tail(len(predicted_return_22))\n",
    "predicted_values = pd.merge(left=predicted_values,right=predicted_return_22,on=['Date'],how='inner')\n",
    "predicted_values['Gold-T+22']=(predicted_values['Gold']*(1+predicted_values['Return_22'])).round(decimals =1)\n",
    "#Adding T+22 Date\n",
    "from datetime import datetime, timedelta\n",
    "predicted_values['Date-T+22'] = predicted_values['Date']+timedelta(days = 22)\n",
    "predicted_values.tail()"
   ]
  }
 ],
 "metadata": {
  "kernelspec": {
   "display_name": "Python 3",
   "language": "python",
   "name": "python3"
  },
  "language_info": {
   "codemirror_mode": {
    "name": "ipython",
    "version": 3
   },
   "file_extension": ".py",
   "mimetype": "text/x-python",
   "name": "python",
   "nbconvert_exporter": "python",
   "pygments_lexer": "ipython3",
   "version": "3.7.3"
  }
 },
 "nbformat": 4,
 "nbformat_minor": 4
}
