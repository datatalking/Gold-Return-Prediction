{
 "cells": [
  {
   "cell_type": "markdown",
   "metadata": {},
   "source": [
    "# Predicting return from Gold"
   ]
  },
  {
   "cell_type": "markdown",
   "metadata": {},
   "source": [
    "### Background"
   ]
  },
  {
   "cell_type": "markdown",
   "metadata": {},
   "source": [
    "\n",
    "Gold has been the original store of value and medium of exchange for mankind for centuries till paper/or fiat currency took over a couple of centuries ago. However, most of the sustainable paper currencyies were backed by Gold as late as 1971, when the Bretton Woods agreement was scrapped and world currencies became a true $'Fiat'$ currency.\n",
    "\n",
    "Gold however continues to be os interest not only as metal of choice for jewellery, but also as store of value and often advisable part of investment portfolio as it tends to be a hedge and safe haven when economies tend to (or atleat appear to) be in or at brink of collapse.\n",
    "\n",
    "Currently there are numerous instruments which can give an investor exposure to Gold and they not necessarily need to keep it physically in their vaults. Exchange traded Funds (ETFs) is the most widely used instrument. As of April 2020, a total of **USD175bn** is invested in Gold ETFs across the globe. This was corpus was just **USD24bn in 2008** before the Global Financial Crisis (GFC)"
   ]
  },
  {
   "cell_type": "markdown",
   "metadata": {},
   "source": [
    "### Approach"
   ]
  },
  {
   "cell_type": "markdown",
   "metadata": {},
   "source": [
    "In the series we will take different approaches to predict return from Gold prices using Machine learning. We will use supervised learning methods of regression and classification. We will then use Time Series methods. And then finally we will try to integrate them to see of their predictive ppowers increases due to integration.\n",
    "\n",
    "First we will go the regression route to predict future returns of Gold over next 2 weeks and 3 weeks period. We will do this by using historical returns of different instruments which I beleive impact or likely to impact the outlook towards Gold. The fundamental reason is, I term Gold as a 'reactionary' asset. It has little fundamentals of its own and movement in prices is often is a derivative of how investors view other asset classes (equities and commdities)"
   ]
  },
  {
   "cell_type": "markdown",
   "metadata": {},
   "source": [
    "## Importing and Preparing Data"
   ]
  },
  {
   "cell_type": "markdown",
   "metadata": {},
   "source": [
    "For this and subsequent exercises we will need closing price of several instruments for past 10 years . There are various paid (Reuters, Bloomberg) and free resources (IEX, Quandl, Yahoofinance, Google finance) that we can use to either extract and load data in csv or we can directly call their APIs. Since in this project I needed different type of asset classes (Equities, Commodities, Debt and precious metals) I found the 'yahoofinancials' package to be very helpful and straight forward. (https://pypi.org/project/yahoofinancials/)"
   ]
  },
  {
   "cell_type": "code",
   "execution_count": null,
   "metadata": {
    "is_executing": true
   },
   "outputs": [],
   "source": [
    "!pip3 install pandas\n",
    "!pip3 install seaborn\n",
    "!pip3 install datetime\n",
    "!pip3 install matplotlib\n",
    "!pip3 install yahoofinancials"
   ]
  },
  {
   "cell_type": "code",
   "execution_count": 9,
   "metadata": {},
   "outputs": [],
   "source": [
    "#Importing Libraries\n",
    "import pandas as pd\n",
    "import seaborn\n",
    "from datetime import datetime\n",
    "import matplotlib.pyplot as plt\n",
    "from yahoofinancials import YahooFinancials"
   ]
  },
  {
   "cell_type": "markdown",
   "metadata": {},
   "source": [
    "I have prepared a list instruments for which we need to import data. yahoofinancials package requires Yahoo ticker symbols. The list contains the ticker symbols and their descriptions. The excel file containing the list can be found here..... We import that file and extract the tciker symbols and the names as seprarate lists"
   ]
  },
  {
   "cell_type": "code",
   "execution_count": 10,
   "metadata": {},
   "outputs": [
    {
     "data": {
      "text/plain": "      Ticker              Description\n0       GC=F                     Gold\n1       SI=F                   Silver\n2       CL=F                Crude Oil\n3      ^GSPC                   S&P500\n4       ^RUT        Russel 2000 Index\n5       ZN=F  10 Yr US T-Note futures\n6       ZT=F   2 Yr US T-Note Futures\n7       PL=F                 Platinum\n8       HG=F                   Copper\n9       DX=F             Dollar Index\n10      ^VIX         Volatility Index\n11       S=F                  Soybean\n12       EEM              MSCI EM ETF\n13  EURUSD=X                 Euro USD\n14     ^N100              Euronext100\n15     ^IXIC                   Nasdaq",
      "text/html": "<div>\n<style scoped>\n    .dataframe tbody tr th:only-of-type {\n        vertical-align: middle;\n    }\n\n    .dataframe tbody tr th {\n        vertical-align: top;\n    }\n\n    .dataframe thead th {\n        text-align: right;\n    }\n</style>\n<table border=\"1\" class=\"dataframe\">\n  <thead>\n    <tr style=\"text-align: right;\">\n      <th></th>\n      <th>Ticker</th>\n      <th>Description</th>\n    </tr>\n  </thead>\n  <tbody>\n    <tr>\n      <th>0</th>\n      <td>GC=F</td>\n      <td>Gold</td>\n    </tr>\n    <tr>\n      <th>1</th>\n      <td>SI=F</td>\n      <td>Silver</td>\n    </tr>\n    <tr>\n      <th>2</th>\n      <td>CL=F</td>\n      <td>Crude Oil</td>\n    </tr>\n    <tr>\n      <th>3</th>\n      <td>^GSPC</td>\n      <td>S&amp;P500</td>\n    </tr>\n    <tr>\n      <th>4</th>\n      <td>^RUT</td>\n      <td>Russel 2000 Index</td>\n    </tr>\n    <tr>\n      <th>5</th>\n      <td>ZN=F</td>\n      <td>10 Yr US T-Note futures</td>\n    </tr>\n    <tr>\n      <th>6</th>\n      <td>ZT=F</td>\n      <td>2 Yr US T-Note Futures</td>\n    </tr>\n    <tr>\n      <th>7</th>\n      <td>PL=F</td>\n      <td>Platinum</td>\n    </tr>\n    <tr>\n      <th>8</th>\n      <td>HG=F</td>\n      <td>Copper</td>\n    </tr>\n    <tr>\n      <th>9</th>\n      <td>DX=F</td>\n      <td>Dollar Index</td>\n    </tr>\n    <tr>\n      <th>10</th>\n      <td>^VIX</td>\n      <td>Volatility Index</td>\n    </tr>\n    <tr>\n      <th>11</th>\n      <td>S=F</td>\n      <td>Soybean</td>\n    </tr>\n    <tr>\n      <th>12</th>\n      <td>EEM</td>\n      <td>MSCI EM ETF</td>\n    </tr>\n    <tr>\n      <th>13</th>\n      <td>EURUSD=X</td>\n      <td>Euro USD</td>\n    </tr>\n    <tr>\n      <th>14</th>\n      <td>^N100</td>\n      <td>Euronext100</td>\n    </tr>\n    <tr>\n      <th>15</th>\n      <td>^IXIC</td>\n      <td>Nasdaq</td>\n    </tr>\n  </tbody>\n</table>\n</div>"
     },
     "execution_count": 10,
     "metadata": {},
     "output_type": "execute_result"
    }
   ],
   "source": [
    "# ticker_details = pd.read_excel('/Users/vanessawilson/Pbox/Gold-Return-Prediction/Ticker List.xlsx')\n",
    "\n",
    "ticker_details = pd.read_excel('Ticker List.xlsx')\n",
    "\n",
    "\n",
    "ticker_details.head(20)"
   ]
  },
  {
   "cell_type": "code",
   "execution_count": 11,
   "metadata": {},
   "outputs": [],
   "source": [
    "ticker = ticker_details['Ticker'].to_list()\n",
    "names = ticker_details['Description'].to_list()"
   ]
  },
  {
   "cell_type": "markdown",
   "metadata": {},
   "source": [
    "Once we have the list, we need to define what date range we need to import the data for. The period I have chosen is Jan 2010 till 1st Mar 2020. The reason I did not pull data prior to that is because the GFC in 2008-09 massively changed the economic and market landscapes. Relationships pririo to that peirod might be of less relevance now. We also dont want to feed very less data as the models might tend to overfit.\n",
    "\n",
    "We create a date-range and write it to an empty dataframe named values where we would extract and past the values we pull from yahoofinancials."
   ]
  },
  {
   "cell_type": "code",
   "execution_count": null,
   "metadata": {
    "is_executing": true
   },
   "outputs": [],
   "source": [
    "#Extracting Data from Yahoo Finance and Adding them to Values table using date as key\n",
    "end_date= \"2020-03-01\"\n",
    "start_date = int(\"2010-01-01\")\n",
    "date_range = pd.bdate_range(start=start_date,end=end_date)\n",
    "values = pd.DataFrame({ 'Date': date_range})\n",
    "values['Date']= pd.to_datetime(values['Date'])"
   ]
  },
  {
   "cell_type": "markdown",
   "metadata": {},
   "source": [
    "Once we have the date range in dataframe, we need to use ticker symbols to pull out data from the API. yahoofinancials returns the output in a JSON format. The following code loops over the the list of ticker symbols and extracts just the closing prices for all the historical dates and keeps them adding to the dataframe horizontally. Note I have used the merge function to mantain the sanctity of dates. Given these asset classes might have different regional and trading holidays, the date ranges are not bound to be the same. By merging, we will eventually have several NAs which we will frontfill later on."
   ]
  },
  {
   "cell_type": "code",
   "execution_count": null,
   "metadata": {},
   "outputs": [],
   "source": [
    "#Extracting Data from Yahoo Finance and Adding them to Values table using date as key\n",
    "for i in ticker:\n",
    "    raw_data = YahooFinancials(i)\n",
    "    raw_data = raw_data.get_historical_price_data(start_date, end_date, \"daily\")\n",
    "    df = pd.DataFrame(raw_data[i]['prices'])[['formatted_date','adjclose']]\n",
    "    df.columns = ['Date1',i]\n",
    "    df['Date1']= pd.to_datetime(df['Date1'])\n",
    "    values = values.merge(df,how='left',left_on='Date',right_on='Date1')\n",
    "    values = values.drop(labels='Date1',axis=1)\n",
    "\n",
    "#Renaming columns to represent instrument names rather than their ticker codes for ease of readability\n",
    "names.insert(0,'Date')\n",
    "values.columns = names\n",
    "print(values.shape)\n",
    "print(values.isna().sum())\n",
    "values.tail()"
   ]
  },
  {
   "cell_type": "code",
   "execution_count": null,
   "metadata": {},
   "outputs": [],
   "source": [
    "#Front filling the NaN values in the data set\n",
    "values = values.fillna(method=\"ffill\",axis=0)\n",
    "values = values.fillna(method=\"bfill\",axis=0)\n",
    "values.isna().sum()"
   ]
  },
  {
   "cell_type": "code",
   "execution_count": null,
   "metadata": {},
   "outputs": [],
   "source": [
    "# Co-ercing numeric type to all columns except Date\n",
    "cols=values.columns.drop('Date')\n",
    "values[cols] = values[cols].apply(pd.to_numeric,errors='coerce').round(decimals=1)\n",
    "values.tail()"
   ]
  },
  {
   "cell_type": "code",
   "execution_count": null,
   "metadata": {},
   "outputs": [],
   "source": [
    "values.to_csv(\"Training Data_Values.csv\")"
   ]
  },
  {
   "cell_type": "markdown",
   "metadata": {},
   "source": [
    "In approach we highlighted that we will used lagged returns of the listed instruments to predict future returns on Gold. Here we go on to calculate shortterm returns of all the instruments and longer term returns of few selected instruments. The fundamental idea behind it is, that if a certain asset has highly outperformed or underperformed, there is greater likelihood of portfolio rebalancing which would impact returns on other asset clasees. Eg: If the stock markets (S&P500) has shown stupendous returns in past 6 months, asset managers might want to book profits and allocate some funds to say precious metals and prepare for stock market correction. We will however, use Machine Learning to evaluate the hypothesis."
   ]
  },
  {
   "cell_type": "code",
   "execution_count": null,
   "metadata": {},
   "outputs": [],
   "source": []
  },
  {
   "cell_type": "code",
   "execution_count": null,
   "metadata": {},
   "outputs": [],
   "source": [
    "imp = ['Gold','Silver', 'Crude Oil', 'S&P500','MSCI EM ETF']\n",
    "# Calculating Short term -Historical Returns\n",
    "change_days = [1,3,5,14,21]\n",
    "\n",
    "data = pd.DataFrame(data=values['Date'])\n",
    "for i in change_days:\n",
    "    print(data.shape)\n",
    "    x= values[cols].pct_change(periods=i).add_suffix(\"-T-\"+str(i))\n",
    "    data=pd.concat(objs=(data,x),axis=1)\n",
    "    x=[]\n",
    "print(data.shape)\n",
    "\n",
    "# Calculating Long term Historical Returns\n",
    "change_days = [60,90,180,250]\n",
    "\n",
    "for i in change_days:\n",
    "    print(data.shape)\n",
    "    x= values[imp].pct_change(periods=i).add_suffix(\"-T-\"+str(i))\n",
    "    data=pd.concat(objs=(data,x),axis=1)\n",
    "    x=[]\n",
    "print(data.shape)"
   ]
  },
  {
   "cell_type": "markdown",
   "metadata": {},
   "source": [
    "Besides just the lagged returns, we also see how far the current Gold price is from its moving average for with different window. This is a very commonly used metric in technical analysis where moving averages offer supports and resistances for asset prices. We use a combination of simple and exponential moving averages. We then add these moving averages to the existing feature space."
   ]
  },
  {
   "cell_type": "code",
   "execution_count": null,
   "metadata": {},
   "outputs": [],
   "source": [
    "#Calculating Moving averages for Gold\n",
    "moving_avg = pd.DataFrame(values['Date'],columns=['Date'])\n",
    "moving_avg['Date']=pd.to_datetime(moving_avg['Date'],format='%Y-%b-%d')\n",
    "moving_avg['Gold/15SMA'] = (values['Gold']/(values['Gold'].rolling(window=15).mean()))-1\n",
    "moving_avg['Gold/30SMA'] = (values['Gold']/(values['Gold'].rolling(window=30).mean()))-1\n",
    "moving_avg['Gold/60SMA'] = (values['Gold']/(values['Gold'].rolling(window=60).mean()))-1\n",
    "moving_avg['Gold/90SMA'] = (values['Gold']/(values['Gold'].rolling(window=90).mean()))-1\n",
    "moving_avg['Gold/180SMA'] = (values['Gold']/(values['Gold'].rolling(window=180).mean()))-1\n",
    "moving_avg['Gold/90EMA'] = (values['Gold']/(values['Gold'].ewm(span=90,adjust=True,ignore_na=True).mean()))-1\n",
    "moving_avg['Gold/180EMA'] = (values['Gold']/(values['Gold'].ewm(span=180,adjust=True,ignore_na=True).mean()))-1\n",
    "moving_avg = moving_avg.dropna(axis=0)\n",
    "print(moving_avg.shape)\n",
    "moving_avg.head()"
   ]
  },
  {
   "cell_type": "code",
   "execution_count": null,
   "metadata": {},
   "outputs": [],
   "source": [
    "#Merging Moving Average values to the feature space\n",
    "print(data.shape)\n",
    "data['Date']=pd.to_datetime(data['Date'],format='%Y-%b-%d')\n",
    "data = pd.merge(left=data,right=moving_avg,how='left',on='Date')\n",
    "print(data.shape)\n",
    "data.isna().sum()"
   ]
  },
  {
   "cell_type": "markdown",
   "metadata": {},
   "source": [
    "This wall all about features. Now we need to create targets, i.e what we want to predict. Since we are predicting returns, we need to pick a horizon for which we need to predict returns. I have chosen 14-day and 22-day horizons because other smaller horizons tend to be very volatile and lack and predictive power. One can however, experiment with other horizons as well."
   ]
  },
  {
   "cell_type": "code",
   "execution_count": null,
   "metadata": {},
   "outputs": [],
   "source": [
    "#Caluculating forward returns for Target\n",
    "y = pd.DataFrame(data=values['Date'])\n",
    "print(y.shape)\n",
    "y['Gold-T+14']=values[\"Gold\"].pct_change(periods=-14)\n",
    "y['Gold-T+22']=values[\"Gold\"].pct_change(periods=-22)\n",
    "print(y.shape)\n",
    "y.isna().sum()"
   ]
  },
  {
   "cell_type": "code",
   "execution_count": null,
   "metadata": {},
   "outputs": [],
   "source": [
    "# Removing NAs\n",
    "print(data.shape)\n",
    "data = data[data['Gold-T-250'].notna()]\n",
    "y = y[y['Gold-T+22'].notna()]\n",
    "print(data.shape)\n",
    "print(y.shape)"
   ]
  },
  {
   "cell_type": "markdown",
   "metadata": {},
   "source": [
    "Now we will merge the Target variables with the feature space to get a data whcih we can finally start modelling on."
   ]
  },
  {
   "cell_type": "code",
   "execution_count": null,
   "metadata": {},
   "outputs": [],
   "source": [
    "#Adding Target Variables\n",
    "data = pd.merge(left=data,right=y,how='inner',on='Date',suffixes=(False,False))\n",
    "print(data.shape)\n",
    "data.isna().sum()"
   ]
  },
  {
   "cell_type": "code",
   "execution_count": null,
   "metadata": {},
   "outputs": [],
   "source": []
  },
  {
   "cell_type": "code",
   "execution_count": null,
   "metadata": {},
   "outputs": [],
   "source": []
  },
  {
   "cell_type": "code",
   "execution_count": null,
   "metadata": {},
   "outputs": [],
   "source": [
    "data.to_csv(\"Training Data.csv\",index=False)"
   ]
  },
  {
   "cell_type": "code",
   "execution_count": null,
   "metadata": {},
   "outputs": [],
   "source": [
    "corr = data.corr().iloc[:,-2:].drop(labels=['Gold-T+14','Gold-T+22'],axis=0)"
   ]
  },
  {
   "cell_type": "code",
   "execution_count": null,
   "metadata": {},
   "outputs": [],
   "source": [
    "import seaborn as sns\n",
    "import numpy as np"
   ]
  },
  {
   "cell_type": "code",
   "execution_count": null,
   "metadata": {},
   "outputs": [],
   "source": [
    "sns.distplot(corr.iloc[:,0])"
   ]
  },
  {
   "cell_type": "code",
   "execution_count": null,
   "metadata": {},
   "outputs": [],
   "source": [
    "pd.set_option('display.max_rows', None)\n",
    "corr_data = data.tail(2000).corr()\n",
    "corr_data = pd.DataFrame(corr_data['Gold-T+14'])\n",
    "#corr_data = corr_data.iloc[3:,]\n",
    "corr_data = corr_data.sort_values('Gold-T+14',ascending=False)\n",
    "#corr_data"
   ]
  },
  {
   "cell_type": "code",
   "execution_count": null,
   "metadata": {},
   "outputs": [],
   "source": [
    "sns.distplot(corr_data)"
   ]
  },
  {
   "cell_type": "markdown",
   "metadata": {},
   "source": [
    "# Regression"
   ]
  },
  {
   "cell_type": "markdown",
   "metadata": {},
   "source": [
    "## 22 Day Model"
   ]
  },
  {
   "cell_type": "code",
   "execution_count": null,
   "metadata": {},
   "outputs": [],
   "source": [
    "#data = pd.read_csv(\"Training Data.csv\")"
   ]
  },
  {
   "cell_type": "code",
   "execution_count": null,
   "metadata": {},
   "outputs": [],
   "source": [
    "from pycaret.regression import *"
   ]
  },
  {
   "cell_type": "code",
   "execution_count": null,
   "metadata": {},
   "outputs": [],
   "source": [
    "data_22= data.drop(['Gold-T+14'],axis=1)\n",
    "data_22.head()"
   ]
  },
  {
   "cell_type": "code",
   "execution_count": null,
   "metadata": {},
   "outputs": [],
   "source": [
    "a=setup(data_22,target='Gold-T+22',\n",
    "        ignore_features=['Date'],session_id=11,\n",
    "        silent=True,profile=False,remove_outliers=False);\n",
    "#transformation=True,\n",
    "#pca=True,pca_method='kernel',\n",
    "#pca_components=10,\n",
    "#create_clusters=True,\n",
    "#cluster_iter=10,\n",
    "#feature_ratio=True,\n",
    "#normalize=True,\n",
    "#transform_target=True,\n",
    "#silent=True);"
   ]
  },
  {
   "cell_type": "code",
   "execution_count": null,
   "metadata": {},
   "outputs": [],
   "source": []
  },
  {
   "cell_type": "code",
   "execution_count": null,
   "metadata": {},
   "outputs": [],
   "source": [
    "compare_models(blacklist=['tr','ard'],turbo=True)"
   ]
  },
  {
   "cell_type": "code",
   "execution_count": null,
   "metadata": {},
   "outputs": [],
   "source": [
    "knn_tuned = tune_model('knn',n_iter=150)"
   ]
  },
  {
   "cell_type": "code",
   "execution_count": null,
   "metadata": {},
   "outputs": [],
   "source": [
    "catb_tuned = tune_model('catboost')"
   ]
  },
  {
   "cell_type": "code",
   "execution_count": null,
   "metadata": {},
   "outputs": [],
   "source": [
    "et_tuned = tune_model('et')"
   ]
  },
  {
   "cell_type": "code",
   "execution_count": null,
   "metadata": {},
   "outputs": [],
   "source": [
    "et = create_model('et')"
   ]
  },
  {
   "cell_type": "code",
   "execution_count": null,
   "metadata": {},
   "outputs": [],
   "source": [
    "evaluate_model(knn_tuned)"
   ]
  },
  {
   "cell_type": "code",
   "execution_count": null,
   "metadata": {},
   "outputs": [],
   "source": [
    "evaluate_model(et)"
   ]
  },
  {
   "cell_type": "code",
   "execution_count": null,
   "metadata": {},
   "outputs": [],
   "source": [
    "b=setup(data_22,target='Gold-T+22',\n",
    "        ignore_features=['Date'],session_id=11,\n",
    "        silent=True,profile=False,remove_outliers=True);\n",
    "#transformation=True,\n",
    "#pca=True,pca_method='kernel',\n",
    "#pca_components=10,\n",
    "#create_clusters=True,\n",
    "#cluster_iter=10,\n",
    "#feature_ratio=True,\n",
    "#normalize=True,\n",
    "#transform_target=True,\n",
    "#silent=True);"
   ]
  },
  {
   "cell_type": "code",
   "execution_count": null,
   "metadata": {},
   "outputs": [],
   "source": [
    "knn_tuned = tune_model('knn',n_iter=150)"
   ]
  },
  {
   "cell_type": "code",
   "execution_count": null,
   "metadata": {},
   "outputs": [],
   "source": [
    "et = create_model('et')"
   ]
  },
  {
   "cell_type": "code",
   "execution_count": null,
   "metadata": {},
   "outputs": [],
   "source": [
    "catb = create_model('catboost')"
   ]
  },
  {
   "cell_type": "code",
   "execution_count": null,
   "metadata": {},
   "outputs": [],
   "source": []
  },
  {
   "cell_type": "code",
   "execution_count": null,
   "metadata": {},
   "outputs": [],
   "source": []
  },
  {
   "cell_type": "code",
   "execution_count": null,
   "metadata": {},
   "outputs": [],
   "source": []
  },
  {
   "cell_type": "code",
   "execution_count": null,
   "metadata": {},
   "outputs": [],
   "source": []
  },
  {
   "cell_type": "code",
   "execution_count": null,
   "metadata": {},
   "outputs": [],
   "source": []
  },
  {
   "cell_type": "code",
   "execution_count": null,
   "metadata": {},
   "outputs": [],
   "source": []
  },
  {
   "cell_type": "code",
   "execution_count": null,
   "metadata": {},
   "outputs": [],
   "source": []
  },
  {
   "cell_type": "markdown",
   "metadata": {},
   "source": [
    "### Ensembling Models"
   ]
  },
  {
   "cell_type": "code",
   "execution_count": null,
   "metadata": {},
   "outputs": [],
   "source": [
    "et_bagged = ensemble_model(et,method='Bagging')"
   ]
  },
  {
   "cell_type": "code",
   "execution_count": null,
   "metadata": {},
   "outputs": [],
   "source": [
    "knn_tuned_bagged = ensemble_model(knn_tuned, method='Bagging')"
   ]
  },
  {
   "cell_type": "markdown",
   "metadata": {},
   "source": [
    "### Blending Models"
   ]
  },
  {
   "cell_type": "code",
   "execution_count": null,
   "metadata": {},
   "outputs": [],
   "source": [
    "blend_knn_et = blend_models(estimator_list=[knn_tuned,et])"
   ]
  },
  {
   "cell_type": "code",
   "execution_count": null,
   "metadata": {},
   "outputs": [],
   "source": [
    "stack1 = create_stacknet(estimator_list=[[catb,knn_tuned],[et,blend_knn_et]],restack=True)"
   ]
  },
  {
   "cell_type": "code",
   "execution_count": null,
   "metadata": {},
   "outputs": [],
   "source": [
    "stack2 = create_stacknet(estimator_list=[[catb,et,knn_tuned],[blend_knn_et]], restack=True)"
   ]
  },
  {
   "cell_type": "code",
   "execution_count": null,
   "metadata": {},
   "outputs": [],
   "source": [
    "stack3 = create_stacknet(estimator_list=[[catb,et,knn_tuned],[blend_knn_et]], restack=True,meta_model=blend_knn_et)"
   ]
  },
  {
   "cell_type": "code",
   "execution_count": null,
   "metadata": {},
   "outputs": [],
   "source": []
  },
  {
   "cell_type": "code",
   "execution_count": null,
   "metadata": {},
   "outputs": [],
   "source": []
  },
  {
   "cell_type": "code",
   "execution_count": null,
   "metadata": {},
   "outputs": [],
   "source": [
    "save_model(model=stack2, model_name='22Day Regressor')"
   ]
  },
  {
   "cell_type": "markdown",
   "metadata": {},
   "source": [
    "### 14 Day Model "
   ]
  },
  {
   "cell_type": "code",
   "execution_count": null,
   "metadata": {},
   "outputs": [],
   "source": [
    "data_14= data.drop(['Gold-T+22'],axis=1)\n",
    "data_14.head()"
   ]
  },
  {
   "cell_type": "code",
   "execution_count": null,
   "metadata": {},
   "outputs": [],
   "source": [
    "c=setup(data_14,target='Gold-T+14',\n",
    "        ignore_features=['Date'],session_id=11,\n",
    "        silent=True,profile=False,remove_outliers=True);\n",
    "#transformation=True,\n",
    "#pca=True,pca_method='kernel',\n",
    "#pca_components=10,\n",
    "#create_clusters=True,\n",
    "#cluster_iter=10,\n",
    "#feature_ratio=True,\n",
    "#normalize=True,\n",
    "#transform_target=True,\n",
    "#silent=True);"
   ]
  },
  {
   "cell_type": "code",
   "execution_count": null,
   "metadata": {},
   "outputs": [],
   "source": [
    "compare_models(blacklist=['tr','ard'],turbo=True)"
   ]
  },
  {
   "cell_type": "code",
   "execution_count": null,
   "metadata": {},
   "outputs": [],
   "source": [
    "knn_tuned = tune_model('knn',n_iter=150)\n",
    "catb = create_model('catboost')\n",
    "et = create_model('et')\n",
    "knn_tuned_bagged = ensemble_model(knn_tuned, method='Bagging')\n",
    "blend_knn_et = blend_models(estimator_list=[knn_tuned,et])"
   ]
  },
  {
   "cell_type": "code",
   "execution_count": null,
   "metadata": {},
   "outputs": [],
   "source": [
    "stack1 = create_stacknet(estimator_list=[[catb,knn_tuned],[et,blend_knn_et]],restack=True)"
   ]
  },
  {
   "cell_type": "code",
   "execution_count": null,
   "metadata": {},
   "outputs": [],
   "source": [
    "stack2 = create_stacknet(estimator_list=[[catb,et,knn_tuned],[blend_knn_et]], restack=True)"
   ]
  },
  {
   "cell_type": "code",
   "execution_count": null,
   "metadata": {},
   "outputs": [],
   "source": [
    "stack3 = create_stacknet(estimator_list=[[catb,et,knn_tuned],[blend_knn_et]], restack=True,meta_model=blend_knn_et)"
   ]
  },
  {
   "cell_type": "code",
   "execution_count": null,
   "metadata": {},
   "outputs": [],
   "source": [
    "save_model(model=stack2, model_name='14Day Regressor')"
   ]
  },
  {
   "cell_type": "code",
   "execution_count": null,
   "metadata": {},
   "outputs": [],
   "source": []
  },
  {
   "cell_type": "code",
   "execution_count": null,
   "metadata": {},
   "outputs": [],
   "source": []
  },
  {
   "cell_type": "code",
   "execution_count": null,
   "metadata": {},
   "outputs": [],
   "source": []
  },
  {
   "cell_type": "code",
   "execution_count": null,
   "metadata": {},
   "outputs": [],
   "source": []
  }
 ],
 "metadata": {
  "kernelspec": {
   "display_name": "Python 3",
   "language": "python",
   "name": "python3"
  },
  "language_info": {
   "codemirror_mode": {
    "name": "ipython",
    "version": 3
   },
   "file_extension": ".py",
   "mimetype": "text/x-python",
   "name": "python",
   "nbconvert_exporter": "python",
   "pygments_lexer": "ipython3",
   "version": "3.7.3"
  }
 },
 "nbformat": 4,
 "nbformat_minor": 4
}
