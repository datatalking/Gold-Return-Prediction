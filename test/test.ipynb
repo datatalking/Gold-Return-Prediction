{
 "cells": [
  {
   "cell_type": "code",
   "execution_count": null,
   "metadata": {
    "collapsed": true,
    "is_executing": true
   },
   "outputs": [],
   "source": [
    "# needed to do\n",
    "# 1. conda install numba & conda install cudatoolkit\n",
    "# 2. pip install --upgrade pip\n",
    "# or\n",
    "# 3. conda update -n base -c conda-forge conda"
   ]
  },
  {
   "cell_type": "code",
   "execution_count": 10,
   "outputs": [
    {
     "name": "stdout",
     "output_type": "stream",
     "text": [
      "Requirement already satisfied: numba in /Library/Frameworks/Python.framework/Versions/3.7/lib/python3.7/site-packages (0.56.4)\r\n",
      "Requirement already satisfied: importlib-metadata in /Library/Frameworks/Python.framework/Versions/3.7/lib/python3.7/site-packages (from numba) (4.13.0)\r\n",
      "Requirement already satisfied: numpy<1.24,>=1.18 in /Library/Frameworks/Python.framework/Versions/3.7/lib/python3.7/site-packages (from numba) (1.19.5)\r\n",
      "Requirement already satisfied: llvmlite<0.40,>=0.39.0dev0 in /Library/Frameworks/Python.framework/Versions/3.7/lib/python3.7/site-packages (from numba) (0.39.1)\r\n",
      "Requirement already satisfied: setuptools in /Library/Frameworks/Python.framework/Versions/3.7/lib/python3.7/site-packages (from numba) (62.3.2)\r\n",
      "Requirement already satisfied: zipp>=0.5 in /Library/Frameworks/Python.framework/Versions/3.7/lib/python3.7/site-packages (from importlib-metadata->numba) (3.9.0)\r\n",
      "Requirement already satisfied: typing-extensions>=3.6.4 in /Library/Frameworks/Python.framework/Versions/3.7/lib/python3.7/site-packages (from importlib-metadata->numba) (4.1.1)\r\n",
      "Requirement already satisfied: numpy in /Library/Frameworks/Python.framework/Versions/3.7/lib/python3.7/site-packages (1.19.5)\r\n",
      "\u001B[31mERROR: Could not find a version that satisfies the requirement timeit (from versions: none)\u001B[0m\u001B[31m\r\n",
      "\u001B[0m\u001B[31mERROR: No matching distribution found for timeit\u001B[0m\u001B[31m\r\n",
      "\u001B[0m"
     ]
    }
   ],
   "source": [
    "!pip3 install numba\n",
    "!pip3 install numpy\n",
    "# to measure exec time\n",
    "# !pip3 install timeit"
   ],
   "metadata": {
    "collapsed": false,
    "pycharm": {
     "name": "#%%\n"
    }
   }
  },
  {
   "cell_type": "code",
   "execution_count": 11,
   "outputs": [],
   "source": [
    "from numba import jit, cuda\n",
    "import numpy as np\n",
    "# to measure exec time\n",
    "from timeit import default_timer as timer"
   ],
   "metadata": {
    "collapsed": false,
    "pycharm": {
     "name": "#%%\n"
    }
   }
  },
  {
   "cell_type": "code",
   "execution_count": 12,
   "outputs": [
    {
     "name": "stdout",
     "output_type": "stream",
     "text": [
      "without GPU: 82.58071695999999\n",
      "with GPU: 0.19413718199999153\n",
      "without GPU: 61.164675164000016\n",
      "with GPU: 0.19671020700002373\n"
     ]
    }
   ],
   "source": [
    "# normal function to run on cpu\n",
    "def func(a, n):\n",
    "\tfor i in range(n):\n",
    "\t\ta[i]+= 1\n",
    "\n",
    "\n",
    "# function optimized to run on gpu\n",
    "@jit(target_backend='cuda')\n",
    "def func2(a, n):\n",
    "\tfor i in range(n):\n",
    "\t\ta[i]+= 1\n",
    "\n",
    "\n",
    "if __name__==\"__main__\":\n",
    "\tn = 100000000\n",
    "\ta = np.ones(n, dtype = np.float64)\n",
    "\n",
    "\tstart = timer()\n",
    "\tfunc(a, n)\n",
    "\tprint(\"without GPU:\", timer()-start)\n",
    "\n",
    "\tstart = timer()\n",
    "\tfunc2(a, n)\n",
    "\tprint(\"with GPU:\", timer()-start)\n",
    "\n"
   ],
   "metadata": {
    "collapsed": false,
    "pycharm": {
     "name": "#%%\n"
    }
   }
  }
 ],
 "metadata": {
  "kernelspec": {
   "display_name": "Python 3",
   "language": "python",
   "name": "python3"
  },
  "language_info": {
   "codemirror_mode": {
    "name": "ipython",
    "version": 2
   },
   "file_extension": ".py",
   "mimetype": "text/x-python",
   "name": "python",
   "nbconvert_exporter": "python",
   "pygments_lexer": "ipython2",
   "version": "2.7.6"
  }
 },
 "nbformat": 4,
 "nbformat_minor": 0
}
