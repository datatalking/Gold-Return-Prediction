{
 "cells": [
  {
   "cell_type": "code",
   "outputs": [],
   "source": [
    "# https://www.analyticsvidhya.com/blog/2021/06/generate-reports-using-pandas-profiling-deploy-using-streamlit/"
   ],
   "metadata": {
    "collapsed": false
   },
   "id": "5760c5b134b66b3"
  },
  {
   "cell_type": "code",
   "outputs": [],
   "source": [
    "!pip3 install pandas-profiling"
   ],
   "metadata": {
    "collapsed": true,
    "is_executing": true
   },
   "id": "initial_id",
   "execution_count": 0
  },
  {
   "cell_type": "code",
   "outputs": [],
   "source": [
    "import pandas as pd\n",
    "df = pd.read_csv(\"crops data.csv\")"
   ],
   "metadata": {
    "collapsed": false
   },
   "id": "db681f2e74de0610"
  },
  {
   "cell_type": "code",
   "outputs": [],
   "source": [
    "df.describe(include='all')"
   ],
   "metadata": {
    "collapsed": false
   },
   "id": "3688d26d6bab6b41"
  },
  {
   "cell_type": "code",
   "outputs": [],
   "source": [
    "from pandas_profiling import ProfileReport"
   ],
   "metadata": {
    "collapsed": false
   },
   "id": "b3a7cdcf9cd3a239"
  },
  {
   "cell_type": "code",
   "outputs": [],
   "source": [
    "profile = ProfileReport(df)\n",
    "profile"
   ],
   "metadata": {
    "collapsed": false
   },
   "id": "a6fbdd820d2bbe42"
  }
 ],
 "metadata": {
  "kernelspec": {
   "display_name": "Python 3",
   "language": "python",
   "name": "python3"
  },
  "language_info": {
   "codemirror_mode": {
    "name": "ipython",
    "version": 2
   },
   "file_extension": ".py",
   "mimetype": "text/x-python",
   "name": "python",
   "nbconvert_exporter": "python",
   "pygments_lexer": "ipython2",
   "version": "2.7.6"
  }
 },
 "nbformat": 4,
 "nbformat_minor": 5
}
